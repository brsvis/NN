{
  "nbformat": 4,
  "nbformat_minor": 0,
  "metadata": {
    "colab": {
      "provenance": [],
      "gpuType": "T4",
      "authorship_tag": "ABX9TyPcaIs98hTz87YR9Szn/CNI",
      "include_colab_link": true
    },
    "kernelspec": {
      "name": "python3",
      "display_name": "Python 3"
    },
    "language_info": {
      "name": "python"
    },
    "accelerator": "GPU"
  },
  "cells": [
    {
      "cell_type": "markdown",
      "metadata": {
        "id": "view-in-github",
        "colab_type": "text"
      },
      "source": [
        "<a href=\"https://colab.research.google.com/github/brsvis/NN/blob/main/%D0%9A%D0%BE%D0%BF%D0%B8%D1%8F_%D0%B1%D0%BB%D0%BE%D0%BA%D0%BD%D0%BE%D1%82%D0%B0_%22Untitled0_ipynb%22.ipynb\" target=\"_parent\"><img src=\"https://colab.research.google.com/assets/colab-badge.svg\" alt=\"Open In Colab\"/></a>"
      ]
    },
    {
      "cell_type": "code",
      "execution_count": null,
      "metadata": {
        "id": "ouU0GHEjUft5"
      },
      "outputs": [],
      "source": [
        "from tensorflow.keras.datasets import mnist\n",
        "from tensorflow.keras.models import Sequential\n",
        "from  tensorflow.keras.layers import Dense\n",
        "from tensorflow.keras.optimizers import Adam\n",
        "from tensorflow.keras import utils\n",
        "from tensorflow.keras.preprocessing import image\n",
        "import numpy as np\n",
        "import pylab\n",
        "from mpl_toolkits.mplot3d import Axes3D\n",
        "from google.colab import files\n",
        "import matplotlib.pyplot as plt\n",
        "from PIL import Image\n",
        "\n",
        "%matplotlib inline"
      ]
    },
    {
      "cell_type": "code",
      "source": [
        "model = Sequential()\n",
        "model.add(Dense(2, input_dim = 2, use_bias = False))\n",
        "model.add(Dense(1,use_bias = False))"
      ],
      "metadata": {
        "id": "uGEZSFX8VSnE"
      },
      "execution_count": null,
      "outputs": []
    },
    {
      "cell_type": "code",
      "source": [
        "model.summary()"
      ],
      "metadata": {
        "colab": {
          "base_uri": "https://localhost:8080/"
        },
        "id": "yUQfpBHbW78R",
        "outputId": "63b3dc72-6c7e-4bb2-d2d5-a390ad974753"
      },
      "execution_count": null,
      "outputs": [
        {
          "output_type": "stream",
          "name": "stdout",
          "text": [
            "Model: \"sequential\"\n",
            "_________________________________________________________________\n",
            " Layer (type)                Output Shape              Param #   \n",
            "=================================================================\n",
            " dense (Dense)               (None, 2)                 4         \n",
            "                                                                 \n",
            " dense_1 (Dense)             (None, 1)                 2         \n",
            "                                                                 \n",
            "=================================================================\n",
            "Total params: 6\n",
            "Trainable params: 6\n",
            "Non-trainable params: 0\n",
            "_________________________________________________________________\n"
          ]
        }
      ]
    },
    {
      "cell_type": "code",
      "source": [
        "weights = model.get_weights()\n",
        "print(weights)"
      ],
      "metadata": {
        "colab": {
          "base_uri": "https://localhost:8080/"
        },
        "id": "3XqTgtzZXB4G",
        "outputId": "51396ef6-66c2-47c5-80aa-cb73c4893fed"
      },
      "execution_count": null,
      "outputs": [
        {
          "output_type": "stream",
          "name": "stdout",
          "text": [
            "[array([[ 0.48004735,  1.0414494 ],\n",
            "       [ 1.2229303 , -0.37539798]], dtype=float32), array([[-0.5669638],\n",
            "       [ 0.8277577]], dtype=float32)]\n"
          ]
        }
      ]
    },
    {
      "cell_type": "code",
      "source": [
        "w1 = 0.42\n",
        "w2 = 0.15\n",
        "w3 = -0.56\n",
        "w4 = 0.83\n",
        "w5 = 0.93\n",
        "w6 = 0.02\n",
        "new_weight = [np.array([[w1,w3],[w2,w4]]), np.array([[w5],[w6]])]\n",
        "print(new_weight)\n",
        "model.set_weights(new_weight)"
      ],
      "metadata": {
        "colab": {
          "base_uri": "https://localhost:8080/"
        },
        "id": "eo2TlI5QYYwB",
        "outputId": "d4016b53-cd52-44c5-ad14-1e7c0fbb362f"
      },
      "execution_count": null,
      "outputs": [
        {
          "output_type": "stream",
          "name": "stdout",
          "text": [
            "[array([[ 0.42, -0.56],\n",
            "       [ 0.15,  0.83]]), array([[0.93],\n",
            "       [0.02]])]\n"
          ]
        }
      ]
    },
    {
      "cell_type": "code",
      "source": [
        "x1 = 7.2\n",
        "x2 = -5.8\n",
        "x_train = np.expand_dims(np.array([x1,x2]),0)\n",
        "x_train.shape"
      ],
      "metadata": {
        "id": "G8nyq2iTaVuE",
        "colab": {
          "base_uri": "https://localhost:8080/"
        },
        "outputId": "7f0308cf-d1e5-4062-f420-43f0620d9533"
      },
      "execution_count": null,
      "outputs": [
        {
          "output_type": "execute_result",
          "data": {
            "text/plain": [
              "(1, 2)"
            ]
          },
          "metadata": {},
          "execution_count": 8
        }
      ]
    },
    {
      "cell_type": "code",
      "source": [
        "k = np.array([x1,x2])\n",
        "k.shape"
      ],
      "metadata": {
        "id": "AAfDZ4FhcFiQ",
        "colab": {
          "base_uri": "https://localhost:8080/"
        },
        "outputId": "0467f472-b17a-4796-bf46-62860ca4ecf5"
      },
      "execution_count": null,
      "outputs": [
        {
          "output_type": "execute_result",
          "data": {
            "text/plain": [
              "(2,)"
            ]
          },
          "metadata": {},
          "execution_count": 9
        }
      ]
    },
    {
      "cell_type": "code",
      "source": [
        "y_linear = model.predict(x_train)\n",
        "print(y_linear)"
      ],
      "metadata": {
        "colab": {
          "base_uri": "https://localhost:8080/"
        },
        "id": "33lNTu6GDrXv",
        "outputId": "d2c898c6-f5a9-4f74-9a57-5685d0a34fbc"
      },
      "execution_count": null,
      "outputs": [
        {
          "output_type": "stream",
          "name": "stdout",
          "text": [
            "1/1 [==============================] - 3s 3s/step\n",
            "[[1.8262998]]\n"
          ]
        }
      ]
    },
    {
      "cell_type": "code",
      "source": [
        "N1 = x1 * w1 + x2 * w2\n",
        "N2 = x1 * w3 + x2 * w4\n",
        "print(N1)\n",
        "print(N2)"
      ],
      "metadata": {
        "colab": {
          "base_uri": "https://localhost:8080/"
        },
        "id": "fAJjFd_6EFKK",
        "outputId": "bf94fbf0-b384-4bf0-ac9c-030173adf162"
      },
      "execution_count": null,
      "outputs": [
        {
          "output_type": "stream",
          "name": "stdout",
          "text": [
            "2.154\n",
            "-8.846\n"
          ]
        }
      ]
    },
    {
      "cell_type": "code",
      "source": [
        "Y_linear = N1 * w5 + N2 * w6\n",
        "print(Y_linear)"
      ],
      "metadata": {
        "colab": {
          "base_uri": "https://localhost:8080/"
        },
        "id": "eLDMjWGJF8eH",
        "outputId": "080bb87b-d8f8-4483-fa84-5dae2c7b6a38"
      },
      "execution_count": null,
      "outputs": [
        {
          "output_type": "stream",
          "name": "stdout",
          "text": [
            "1.8263000000000003\n"
          ]
        }
      ]
    },
    {
      "cell_type": "code",
      "source": [
        "print('Значение предикта модели: ', round(y_linear[0][0], 6))\n",
        "print('Значение просчитаное вручную: ', round(Y_linear, 6))"
      ],
      "metadata": {
        "colab": {
          "base_uri": "https://localhost:8080/"
        },
        "id": "1RkIOpXlGie8",
        "outputId": "98e4ce68-602f-4022-b7cd-e9ec88455c56"
      },
      "execution_count": null,
      "outputs": [
        {
          "output_type": "stream",
          "name": "stdout",
          "text": [
            "Значение предикта модели:  1.8263\n",
            "Значение просчитаное вручную:  1.8263\n"
          ]
        }
      ]
    },
    {
      "cell_type": "code",
      "source": [],
      "metadata": {
        "id": "N4eqE62UHyq9"
      },
      "execution_count": null,
      "outputs": []
    }
  ]
}